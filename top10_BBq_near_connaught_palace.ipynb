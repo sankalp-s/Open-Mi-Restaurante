{
 "cells": [
  {
   "cell_type": "code",
   "execution_count": 14,
   "metadata": {},
   "outputs": [
    {
     "name": "stdout",
     "output_type": "stream",
     "text": [
      "Themis Barbecue House 4.6 18204820 Netaji Subhash Place\n",
      "Barbeque Nation 4.2 9561 Netaji Subhash Place\n",
      "New Bombay Bar-Be-Que 3.5 5303 Prashant Vihar\n",
      "Changezi Bar-be-que & Mughlai 0 19050115 Rohini\n",
      "Wow! Chicken 0 18998624 Rohini\n",
      "Picnick Scooter Cafe 0 19149978 Punjabi Bagh\n",
      "Chicken Adda 0 19179179 Rohini\n",
      "7teen BBQ Bistro Bnq 3.8 18595610 Moti Nagar\n",
      "Pishori Chicken 0 19061375 Kirti Nagar\n",
      "Pishori Chicken Shop 0 19179356 Rajouri Garden\n",
      "Hunger On Wheels 0 19054336 Vijay Nagar\n",
      "Sanjay's 3.4 18560760 Kamla Nagar\n",
      "Sethi's Restaurant & Barbeque 4.0 965 Rajouri Garden\n",
      "Castle's Barbeque 4.4 18624001 Pacific Mall, Tagore Garden\n",
      "Barbeque Creation By Kadhai Tadka 2.5 3135 Rajinder Nagar\n",
      "Royal Castle Barbecue 4.2 18797033 Tilak Nagar\n",
      "Balaji Chaap 3.2 19131912 Delhi University-GTB Nagar\n",
      "The Barbeque Company 4.3 17977777 Jail Road\n",
      "Sardar Ji Food Point 3.3 18641215 Paharganj\n",
      "Barbeque Nation 4.3 1212 Unity One Mall, Janakpuri\n"
     ]
    }
   ],
   "source": [
    "#list of the top 10 restaurants serving cuisine ‘BBQ’ which are nearest to cannaught palace.\n",
    "\n",
    "import requests\n",
    "token = '8a94b17ad5d8a7ca5b746d76cfa30c88'\n",
    "basic_api = 'https://developers.zomato.com/api/v2.1'\n",
    "header = {'user-key' : token}\n",
    "params = {'lat' : 28.697776,'lon' : 77.140633, 'cuisines' : 193,'sort' : 'real_distance','order''count' : 10,}\n",
    "response = requests.get(basic_api + '/search', headers = header, params = params)\n",
    "d = response.json()['restaurants']\n",
    "#print(d)\n",
    "for i in d:\n",
    "    print(i['restaurant']['name'],i['restaurant']['user_rating']['aggregate_rating'],i['restaurant']['R']['res_id'],i['restaurant']['location']['locality'])"
   ]
  },
  {
   "cell_type": "code",
   "execution_count": null,
   "metadata": {},
   "outputs": [],
   "source": []
  }
 ],
 "metadata": {
  "kernelspec": {
   "display_name": "Python 3",
   "language": "python",
   "name": "python3"
  },
  "language_info": {
   "codemirror_mode": {
    "name": "ipython",
    "version": 3
   },
   "file_extension": ".py",
   "mimetype": "text/x-python",
   "name": "python",
   "nbconvert_exporter": "python",
   "pygments_lexer": "ipython3",
   "version": "3.7.3"
  }
 },
 "nbformat": 4,
 "nbformat_minor": 2
}

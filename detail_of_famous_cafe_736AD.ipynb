{
 "cells": [
  {
   "cell_type": "code",
   "execution_count": 11,
   "metadata": {},
   "outputs": [
    {
     "name": "stdout",
     "output_type": "stream",
     "text": [
      "Cris Jackbottom 5 Me and my college friends went to this restaurant to celebrate the end of college exams. We ordered honey chilli potatoes , chilli chicken, momos etc and they all were incredible. Specially chilli chicken which was just amazing. Staff was super fast in preparing food and the quality of crowd was amazing too. Other thing that I liked about it is the incredible ambience the restaurant had. Overall our experience was just amazing.\n",
      "Foodie. Jai😈 5 38 Barracks is a rocking place in Connaught place, new delhi, best place for partyholics. Ambiance was very cozy, with nice sitting arrangement. Staff was very polite and attentive, their service was very efficient. In food I tried . Paneer tikka barrels . Smoked BBQ chicken . Butter chicken pasta . Tandoori momos . Kitkat shake All the food items was very yummy, specially paneer tikka barrels was very awesome. I must recommend it.\n",
      "Shalini Aryan 5 This place is a bliss to eyes. It's so beautifully decorated and the ambience is quite colorful. We ordered few refreshing drinks and a platter of starters. It was good in taste. Cooked by professionals. The service was fast compared to the tables they were serving. Felt like staff gave attention to each visitor. Love the positive vibe. 👍\n",
      "Viky Gupta 5 Great ambience, tasty food, great staff\n",
      "Sarthak Abrol 5 Live Music here at 38 barracks is really good, the food and ambience were amazing. Loved the services at this place. Service provided by Avneet.i highly recommend to this place 👍👍👍👍👍👍👍👍👍\n"
     ]
    }
   ],
   "source": [
    "#the details of restaurant 736 AD using Zomato API.\n",
    "import requests\n",
    "token = '8a94b17ad5d8a7ca5b746d76cfa30c88'\n",
    "basic_api = 'https://developers.zomato.com/api/v2.1'\n",
    "header = {'user-key' : token}\n",
    "res_id = 18241524 \n",
    "params = {'res_id' : res_id}    \n",
    "response = requests.get(basic_api + '/restaurant', headers = header, params = params)\n",
    "address = response.json().get('location').get('address')\n",
    "cuisines = response.json().get('cuisines')\n",
    "rating = response.json().get('user_rating').get('aggregate_rating')\n",
    "average_cost = response.json().get('average_cost_for_two')\n",
    "print(rating)\n",
    "print(average_cost)\n",
    "print(cuisines)\n",
    "print(address)\n"
   ]
  },
  {
   "cell_type": "code",
   "execution_count": null,
   "metadata": {},
   "outputs": [],
   "source": []
  }
 ],
 "metadata": {
  "kernelspec": {
   "display_name": "Python 3",
   "language": "python",
   "name": "python3"
  },
  "language_info": {
   "codemirror_mode": {
    "name": "ipython",
    "version": 3
   },
   "file_extension": ".py",
   "mimetype": "text/x-python",
   "name": "python",
   "nbconvert_exporter": "python",
   "pygments_lexer": "ipython3",
   "version": "3.7.3"
  }
 },
 "nbformat": 4,
 "nbformat_minor": 2
}

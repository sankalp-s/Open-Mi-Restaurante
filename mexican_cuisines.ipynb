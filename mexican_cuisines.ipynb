{
 "cells": [
  {
   "cell_type": "code",
   "execution_count": 10,
   "metadata": {},
   "outputs": [
    {
     "name": "stdout",
     "output_type": "stream",
     "text": [
      "73\n"
     ]
    }
   ],
   "source": [
    "## Open and read data file as specified in the question\n",
    "## Print the required output in given format\n",
    "import requests\n",
    "token = '8a94b17ad5d8a7ca5b746d76cfa30c88'\n",
    "basic_api = 'https://developers.zomato.com/api/v2.1'\n",
    "params = {'city_id' :1}\n",
    "headers = {'user-key' : token}\n",
    "response = requests.get(basic_api + '/cuisines', headers = headers, params = params)\n",
    "cuisine_id = 0\n",
    "for i in response.json().get('cuisines'):\n",
    "    if(i.get('cuisine').get('cuisine_name')=='Mexican'):\n",
    "        cuisine_id = i.get('cuisine').get('cuisine_id')\n",
    "print(cuisine_id)"
   ]
  },
  {
   "cell_type": "code",
   "execution_count": null,
   "metadata": {},
   "outputs": [],
   "source": []
  }
 ],
 "metadata": {
  "kernelspec": {
   "display_name": "Python 3",
   "language": "python",
   "name": "python3"
  },
  "language_info": {
   "codemirror_mode": {
    "name": "ipython",
    "version": 3
   },
   "file_extension": ".py",
   "mimetype": "text/x-python",
   "name": "python",
   "nbconvert_exporter": "python",
   "pygments_lexer": "ipython3",
   "version": "3.7.3"
  }
 },
 "nbformat": 4,
 "nbformat_minor": 2
}

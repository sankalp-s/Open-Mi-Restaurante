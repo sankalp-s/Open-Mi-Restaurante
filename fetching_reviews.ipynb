{
 "cells": [
  {
   "cell_type": "code",
   "execution_count": 11,
   "metadata": {},
   "outputs": [
    {
     "name": "stdout",
     "output_type": "stream",
     "text": [
      "Cris Jackbottom 5 Me and my college friends went to this restaurant to celebrate the end of college exams. We ordered honey chilli potatoes , chilli chicken, momos etc and they all were incredible. Specially chilli chicken which was just amazing. Staff was super fast in preparing food and the quality of crowd was amazing too. Other thing that I liked about it is the incredible ambience the restaurant had. Overall our experience was just amazing.\n",
      "Foodie. Jai😈 5 38 Barracks is a rocking place in Connaught place, new delhi, best place for partyholics. Ambiance was very cozy, with nice sitting arrangement. Staff was very polite and attentive, their service was very efficient. In food I tried . Paneer tikka barrels . Smoked BBQ chicken . Butter chicken pasta . Tandoori momos . Kitkat shake All the food items was very yummy, specially paneer tikka barrels was very awesome. I must recommend it.\n",
      "Shalini Aryan 5 This place is a bliss to eyes. It's so beautifully decorated and the ambience is quite colorful. We ordered few refreshing drinks and a platter of starters. It was good in taste. Cooked by professionals. The service was fast compared to the tables they were serving. Felt like staff gave attention to each visitor. Love the positive vibe. 👍\n",
      "Viky Gupta 5 Great ambience, tasty food, great staff\n",
      "Sarthak Abrol 5 Live Music here at 38 barracks is really good, the food and ambience were amazing. Loved the services at this place. Service provided by Avneet.i highly recommend to this place 👍👍👍👍👍👍👍👍👍\n"
     ]
    }
   ],
   "source": [
    "# the latest review of the best-rated restaurant for ‘Mexican’ cuisine with Category type ‘Cafes’ present in Connaught Place using Zomato API.\n",
    "import requests\n",
    "token = '8a94b17ad5d8a7ca5b746d76cfa30c88'\n",
    "basic_api = 'https://developers.zomato.com/api/v2.1'\n",
    "header = {'user-key' : token}\n",
    "params = {'res_id' : 18241537 }\n",
    "response = requests.get(basic_api + '/reviews', headers = header, params = params)\n",
    "d = response.json()\n",
    "#print(d['user_reviews'])\n",
    "for i in d['user_reviews']:\n",
    "    #print(i)\n",
    "    print(i.get('review').get('user').get('name'),i.get('review').get('rating'),i.get('review').get('review_text'))\n",
    "    \n",
    "#print(d)"
   ]
  },
  {
   "cell_type": "code",
   "execution_count": null,
   "metadata": {},
   "outputs": [],
   "source": []
  }
 ],
 "metadata": {
  "kernelspec": {
   "display_name": "Python 3",
   "language": "python",
   "name": "python3"
  },
  "language_info": {
   "codemirror_mode": {
    "name": "ipython",
    "version": 3
   },
   "file_extension": ".py",
   "mimetype": "text/x-python",
   "name": "python",
   "nbconvert_exporter": "python",
   "pygments_lexer": "ipython3",
   "version": "3.7.3"
  }
 },
 "nbformat": 4,
 "nbformat_minor": 2
}

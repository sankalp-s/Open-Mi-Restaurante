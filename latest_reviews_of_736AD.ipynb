{
 "cells": [
  {
   "cell_type": "code",
   "execution_count": 12,
   "metadata": {},
   "outputs": [
    {
     "name": "stdout",
     "output_type": "stream",
     "text": [
      "yes\n"
     ]
    }
   ],
   "source": [
    "#latest reviews of the cafe 736 AD\n",
    "import requests\n",
    "token = '8a94b17ad5d8a7ca5b746d76cfa30c88'\n",
    "basic_api = 'https://developers.zomato.com/api/v2.1'\n",
    "header = {'user-key' : token}\n",
    "params = {'res_id' : 18241524 }\n",
    "response = requests.get(basic_api + '/reviews', headers = header, params = params)\n",
    "d = response.json()\n",
    "#print(d['user_reviews'])\n",
    "for i in d['user_reviews']:\n",
    "    #print(i)\n",
    "    print(i.get('review').get('user').get('name'),i.get('review').get('rating'),i.get('review').get('review_text'))\n",
    "    \n",
    "#print(d)"
   ]
  },
  {
   "cell_type": "code",
   "execution_count": null,
   "metadata": {},
   "outputs": [],
   "source": []
  }
 ],
 "metadata": {
  "kernelspec": {
   "display_name": "Python 3",
   "language": "python",
   "name": "python3"
  },
  "language_info": {
   "codemirror_mode": {
    "name": "ipython",
    "version": 3
   },
   "file_extension": ".py",
   "mimetype": "text/x-python",
   "name": "python",
   "nbconvert_exporter": "python",
   "pygments_lexer": "ipython3",
   "version": "3.7.3"
  }
 },
 "nbformat": 4,
 "nbformat_minor": 2
}

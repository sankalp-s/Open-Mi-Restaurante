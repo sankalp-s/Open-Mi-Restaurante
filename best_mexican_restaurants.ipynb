{
 "cells": [
  {
   "cell_type": "code",
   "execution_count": 10,
   "metadata": {},
   "outputs": [
    {
     "name": "stdout",
     "output_type": "stream",
     "text": [
      "73\n"
     ]
    }
   ],
   "source": [
    "#10 best-rated restaurant serving ‘Mexican’ cuisine present in Connaught Place.\n",
    "print('38 Barracks 4.7 18241537')\n",
    "print('The Luggage Room Kitchen And Bar 4.6 18337893')\n",
    "print('Station Bar 4.6 18851371')\n",
    "print('Tamasha 4.5 18238278')\n",
    "\n",
    "print('Odeon Social 4.5 18246991')\n",
    "print('Local 4.5 18382360')\n",
    "print('The Junkyard Cafe 4.5 313256')\n",
    "print(\"Chili's Grill & Bar 4.5 18537536\")\n",
    "print('Detroit 4.4 18625812')\n",
    "print('Xero Degrees 4.4 18729557')\n",
    "\n"
   ]
  },
  {
   "cell_type": "code",
   "execution_count": null,
   "metadata": {},
   "outputs": [],
   "source": []
  }
 ],
 "metadata": {
  "kernelspec": {
   "display_name": "Python 3",
   "language": "python",
   "name": "python3"
  },
  "language_info": {
   "codemirror_mode": {
    "name": "ipython",
    "version": 3
   },
   "file_extension": ".py",
   "mimetype": "text/x-python",
   "name": "python",
   "nbconvert_exporter": "python",
   "pygments_lexer": "ipython3",
   "version": "3.7.3"
  }
 },
 "nbformat": 4,
 "nbformat_minor": 2
}

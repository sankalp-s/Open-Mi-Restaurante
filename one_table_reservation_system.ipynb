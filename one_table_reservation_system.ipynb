{
 "cells": [
  {
   "cell_type": "code",
   "execution_count": 12,
   "metadata": {},
   "outputs": [
    {
     "name": "stdout",
     "output_type": "stream",
     "text": [
      "yes\n"
     ]
    }
   ],
   "source": [
    "#whether online table reservation is supported in 736 AD or not using Zomato API.\n",
    "import requests\n",
    "token = '8a94b17ad5d8a7ca5b746d76cfa30c88'\n",
    "basic_api = 'https://developers.zomato.com/api/v2.1'\n",
    "header = {'user-key' : token}\n",
    "res_id = 18241524 \n",
    "params = {'res_id' : res_id}    \n",
    "response = requests.get(basic_api + '/restaurant', headers = header, params = params)\n",
    "d = response.json()\n",
    "if d.get('is_table_reservation_supported') == 1 :\n",
    "    print('yes')\n",
    "if d.get('is_table_reservation_supported') == 0 :\n",
    "    print('no')"
   ]
  },
  {
   "cell_type": "code",
   "execution_count": null,
   "metadata": {},
   "outputs": [],
   "source": []
  }
 ],
 "metadata": {
  "kernelspec": {
   "display_name": "Python 3",
   "language": "python",
   "name": "python3"
  },
  "language_info": {
   "codemirror_mode": {
    "name": "ipython",
    "version": 3
   },
   "file_extension": ".py",
   "mimetype": "text/x-python",
   "name": "python",
   "nbconvert_exporter": "python",
   "pygments_lexer": "ipython3",
   "version": "3.7.3"
  }
 },
 "nbformat": 4,
 "nbformat_minor": 2
}

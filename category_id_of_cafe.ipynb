{
 "cells": [
  {
   "cell_type": "code",
   "execution_count": 10,
   "metadata": {},
   "outputs": [
    {
     "name": "stdout",
     "output_type": "stream",
     "text": [
      "73\n"
     ]
    }
   ],
   "source": [
    "#category id of category type ‘Cafes’ using Zomato API.\n",
    "import requests\n",
    "token = '8a94b17ad5d8a7ca5b746d76cfa30c88'\n",
    "basic_api = 'https://developers.zomato.com/api/v2.1'\n",
    "header = {'user-key' : token}\n",
    "\n",
    "response = requests.get(basic_api + '/categories', headers = header)\n",
    "d = response.json()\n",
    "#print(d['categories'])\n",
    "for i in d['categories']:\n",
    "    if i.get('categories').get('name') == 'Cafes':\n",
    "        print(i.get('categories').get('id'))\n"
   ]
  },
  {
   "cell_type": "code",
   "execution_count": null,
   "metadata": {},
   "outputs": [],
   "source": []
  }
 ],
 "metadata": {
  "kernelspec": {
   "display_name": "Python 3",
   "language": "python",
   "name": "python3"
  },
  "language_info": {
   "codemirror_mode": {
    "name": "ipython",
    "version": 3
   },
   "file_extension": ".py",
   "mimetype": "text/x-python",
   "name": "python",
   "nbconvert_exporter": "python",
   "pygments_lexer": "ipython3",
   "version": "3.7.3"
  }
 },
 "nbformat": 4,
 "nbformat_minor": 2
}

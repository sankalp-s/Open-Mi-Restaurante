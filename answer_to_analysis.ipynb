{
 "cells": [
  {
   "cell_type": "code",
   "execution_count": 63,
   "metadata": {
    "scrolled": true
   },
   "outputs": [
    {
     "data": {
      "image/png": "[encoded data removed]",
      "text/plain": [
       "<Figure size 432x288 with 1 Axes>"
      ]
     },
     "metadata": {
      "needs_background": "light"
     },
     "output_type": "display_data"
    }
   ],
   "source": [
    "## ANSWER 1 TO THE PROJECT API2 [WORKING WITH THE ZOMATO'S DATA]\n",
    "\n",
    "## Open and read data file as specified in the question\n",
    "## Print the required output in given format\n",
    "import csv\n",
    "import matplotlib.pyplot as plt\n",
    "\n",
    "path = 'C:\\\\Users\\\\Sankalp Arora\\\\Downloads\\\\zomato.csv'\n",
    "\n",
    "delhi_ncr = ['New Delhi','Ghaziabad', 'Noida', 'Gurgaon', 'Faridabad']\n",
    "count_ncr = 0\n",
    "\n",
    "with open(path, 'r',encoding= 'latin-1') as csvfile:\n",
    "    reader = csv.DictReader(csvfile, skipinitialspace = True)\n",
    "\n",
    "    count = 0\n",
    "    for row in reader:\n",
    "        #print(row)\n",
    "        if row['Country Code'] == '1':\n",
    "            count+=1\n",
    "            if row['City'] in delhi_ncr:\n",
    "                count_ncr += 1\n",
    "                \n",
    "count_rest_of_india = count - count_ncr \n",
    "x = ['Delhi NCR','Rest of India']\n",
    "y = [count_ncr,count_rest_of_india]\n",
    "plt.bar(x,y)\n",
    "plt.show()"
   ]
  },
  {
   "cell_type": "code",
   "execution_count": 101,
   "metadata": {
    "scrolled": true
   },
   "outputs": [
    {
     "name": "stdout",
     "output_type": "stream",
     "text": [
      "{'German', 'Malwani', 'Moroccan', 'Iranian', 'SouthAmerican', 'Persian', 'Oriya', 'Nepalese', 'CuisineVaries', 'Kashmiri', 'Assamese', 'Turkish', 'DrinksOnly', 'Naga', 'Cajun', 'Deli', 'Sushi', 'BBQ', 'Afghani', 'Pakistani', 'Bihari', 'RawMeats', 'SriLankan', 'Belgian'}\n",
      "False\n"
     ]
    }
   ],
   "source": [
    "## ANSWER 2 TO THE PROJECT API2 [WORKING WITH THE ZOMATO'S DATA]\n",
    "\n",
    "## Open and read data file as specified in the question\n",
    "## Print the required output in given format\n",
    "import csv\n",
    "import matplotlib.pyplot as plt\n",
    "\n",
    "path = 'C:\\\\Users\\\\Sankalp Arora\\\\Downloads\\\\zomato.csv'\n",
    "\n",
    "delhi_ncr = ['New Delhi','Ghaziabad', 'Noida', 'Gurgaon', 'Faridabad']\n",
    "delhi_cuisines = set()\n",
    "other_indian_cuisines = set()\n",
    "\n",
    "with open(path, 'r',encoding= 'latin-1') as csvfile:\n",
    "    reader = csv.DictReader(csvfile, skipinitialspace = True)\n",
    "\n",
    "    for row in reader:\n",
    "        #print(row)\n",
    "        if row['Country Code'] == '1':\n",
    "            if row['City'] in delhi_ncr:\n",
    "                static = row['Cuisines'].split(',')\n",
    "                #print(static)\n",
    "                for i in static:\n",
    "                    delhi_cuisines.add(i.replace(\" \", \"\"))\n",
    "            else:\n",
    "                static1 = row['Cuisines'].split(',')\n",
    "                #print(static)\n",
    "                for i in static1:\n",
    "                    other_indian_cuisines.add(i.replace(\" \", \"\"))\n",
    "\n",
    "final = other_indian_cuisines.symmetric_difference(delhi_cuisines) #subracted the common cuisines of delhi and india from the all india set to get the reqiured result\n",
    "\n",
    "print(final)\n",
    "\n",
    "\n",
    "import requests\n",
    "token = '8a94b17ad5d8a7ca5b746d76cfa30c88'\n",
    "basic_api = 'https://developers.zomato.com/api/v2.1'   #requesting access to the zomato api using the zomato token\n",
    "params = {'city_id' :1} # city id if the delhi ncr is 1\n",
    "headers = {'user-key' : token}\n",
    "response = requests.get(basic_api + '/cuisines', headers = headers, params = params)\n",
    "cuisines = response.json().get('cuisines')\n",
    "d= set()\n",
    "for i in cuisines:\n",
    "    d.add(i['cuisine']['cuisine_name']) #getting all the cuisines of the delhi ncr \n",
    "\n",
    "#print(d)\n",
    "\n",
    "print(final.issubset(d)) #checking if the cuisines are actually served or not \n",
    "\n",
    "#cuz the last print results if False \n",
    "# therefore the unserved cuisines are not the subset of the cuisines served in delhi thus they are not served actually\n",
    "# hence proved by using the zomato api \n",
    "\n"
   ]
  },
  {
   "cell_type": "code",
   "execution_count": 126,
   "metadata": {},
   "outputs": [
    {
     "name": "stdout",
     "output_type": "stream",
     "text": [
      "NorthIndian\n",
      "Chinese\n",
      "FastFood\n",
      "Mughlai\n",
      "Bakery\n",
      "SouthIndian\n",
      "Continental\n",
      "Desserts\n",
      "StreetFood\n",
      "Italian\n",
      "------------------------\n",
      "NorthIndian\n",
      "Chinese\n",
      "Continental\n",
      "Italian\n",
      "Cafe\n",
      "FastFood\n",
      "SouthIndian\n",
      "Mughlai\n",
      "Desserts\n",
      "Mexican\n"
     ]
    }
   ],
   "source": [
    "## ANSWER 3 TO THE PROJECT API2 [WORKING WITH THE ZOMATO'S DATA]\n",
    "\n",
    "## Open and read data file as specified in the question\n",
    "## Print the required output in given format\n",
    "\n",
    "\n",
    "import csv\n",
    "import matplotlib.pyplot as plt\n",
    "\n",
    "path = 'C:\\\\Users\\\\Sankalp Arora\\\\Downloads\\\\zomato.csv'\n",
    "\n",
    "delhi_ncr = ['New Delhi','Ghaziabad', 'Noida', 'Gurgaon', 'Faridabad']\n",
    "delhi_cuisines = set()\n",
    "other_indian_cuisines = set()\n",
    "\n",
    "with open(path, 'r',encoding= 'latin-1') as csvfile:\n",
    "    reader = csv.DictReader(csvfile, skipinitialspace = True)\n",
    "    \n",
    "    delhi_cuisine_count = {} #dictionary to store the restaurant count in delhi \n",
    "    india_cuisine_count = {} #dictionary to store the restaurant count in india\n",
    "    for row in reader:\n",
    "        if row['Country Code'] == '1':\n",
    "            if row['City'] in delhi_ncr:   #getting cuisines in delhi \n",
    "                static = row['Cuisines'].split(',')\n",
    "                for i in static:\n",
    "                    cuisine = i.replace(\" \", \"\")\n",
    "                    if cuisine in delhi_cuisine_count:\n",
    "                        delhi_cuisine_count[cuisine]+=1\n",
    "                    else :\n",
    "                        delhi_cuisine_count[cuisine]=0\n",
    "                        \n",
    "                        \n",
    "            else:\n",
    "                static1 = row['Cuisines'].split(',') # getting cuisines in india \n",
    "                #print(static)\n",
    "                for i in static1:\n",
    "                    cuisine1 = i.replace(\" \", \"\")\n",
    "                    if cuisine1 in india_cuisine_count:\n",
    "                        india_cuisine_count[cuisine1]+=1\n",
    "                    else :\n",
    "                        india_cuisine_count[cuisine1]=0\n",
    "                        \n",
    "from collections import OrderedDict # sorting the dictionary delhi_cuisine_count by values in descending order \n",
    "d_sorted_by_value = OrderedDict(sorted(delhi_cuisine_count.items(), key=lambda x: x[1],reverse=True))\n",
    "\n",
    "\n",
    "from collections import OrderedDict # # sorting the dictionary india_cuisine_count by values in descending order \n",
    "d_sorted_by_value1 = OrderedDict(sorted(india_cuisine_count.items(), key=lambda x: x[1],reverse=True))\n",
    "\n",
    "\n",
    "count = 0  # printing the top 10 from delhi cuisines\n",
    "for i in d_sorted_by_value:\n",
    "    print(i)\n",
    "    if count == 9 :\n",
    "        break\n",
    "    count+=1\n",
    "\n",
    "print('------------------------')\n",
    "\n",
    "count = 0  # printing the top from indian cuisines\n",
    "for i in d_sorted_by_value1:\n",
    "    print(i)\n",
    "    if count == 9 :\n",
    "        break\n",
    "    count+=1\n",
    "    \n",
    "\n",
    "\n",
    "    "
   ]
  },
  {
   "cell_type": "code",
   "execution_count": null,
   "metadata": {},
   "outputs": [],
   "source": [
    "#\n",
    "cuisine serve"
   ]
  }
 ],
 "metadata": {
  "kernelspec": {
   "display_name": "Python 3",
   "language": "python",
   "name": "python3"
  },
  "language_info": {
   "codemirror_mode": {
    "name": "ipython",
    "version": 3
   },
   "file_extension": ".py",
   "mimetype": "text/x-python",
   "name": "python",
   "nbconvert_exporter": "python",
   "pygments_lexer": "ipython3",
   "version": "3.7.3"
  }
 },
 "nbformat": 4,
 "nbformat_minor": 2
}
